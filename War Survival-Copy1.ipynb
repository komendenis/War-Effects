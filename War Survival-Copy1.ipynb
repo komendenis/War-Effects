{
 "cells": [
  {
   "cell_type": "code",
   "execution_count": 1,
   "id": "24645630",
   "metadata": {},
   "outputs": [],
   "source": [
    "import pandas as pd\n",
    "import numpy as np"
   ]
  },
  {
   "cell_type": "code",
   "execution_count": 2,
   "id": "fd9fef82",
   "metadata": {},
   "outputs": [],
   "source": [
    "# Generate data for 1000 people\n",
    "\n",
    "num_people = 1000"
   ]
  },
  {
   "cell_type": "code",
   "execution_count": 3,
   "id": "95ac0f4f",
   "metadata": {},
   "outputs": [],
   "source": [
    "#Generate random names\n",
    "names = np.random.choice(['John', 'Jane', 'Michael', 'Emma', 'William', 'Olivia', 'James', 'Sophia'], num_people)"
   ]
  },
  {
   "cell_type": "code",
   "execution_count": 4,
   "id": "c4694719",
   "metadata": {},
   "outputs": [],
   "source": [
    "#Generate random ages between 18 and 60\n",
    "ages = np.random.randint(18, 61, num_people)\n"
   ]
  },
  {
   "cell_type": "code",
   "execution_count": 5,
   "id": "46711d90",
   "metadata": {},
   "outputs": [],
   "source": [
    "# Basic Needs\n",
    "food_supply = np.random.randint(0, 31, num_people)  # days of food supply\n",
    "water_per_day = np.random.uniform(1, 5, num_people)  # liters of water per day per person\n",
    "\n",
    "# Health and Medical Supplies\n",
    "first_aid_kits = np.random.randint(0, 11, num_people)\n",
    "antibiotics = np.random.randint(0, 21, num_people)\n",
    "painkillers = np.random.randint(0, 51, num_people)\n",
    "\n",
    "# Security and Defense\n",
    "weapons_available = np.random.randint(0, 101, num_people)  # number of weapons available\n",
    "defensive_structures = np.random.randint(0, 11, num_people)  # number of defensive structures\n",
    "training_level = np.random.randint(0, 6, num_people)  # level of combat training (0-5)\n",
    "\n",
    "# Communication and Information\n",
    "radios_available = np.random.randint(0, 21, num_people)  # number of radios available\n",
    "reliable_information = np.random.choice([\"Yes\", \"No\"], num_people)"
   ]
  },
  {
   "cell_type": "code",
   "execution_count": 6,
   "id": "9767e839",
   "metadata": {},
   "outputs": [],
   "source": [
    "#Psychological Well-being\n",
    "support_groups_available = np.random.choice([\"Yes\", \"No\"], num_people)\n",
    "entertainment_available = np.random.choice([\"Books\", \"Games\"], num_people)\n",
    "\n",
    "# Create a DataFrame\n",
    "data = pd.DataFrame({\n",
    "    'Name': names,\n",
    "    'Age': ages,\n",
    "    'Food Supply (Days)': food_supply,\n",
    "    'Water per Day (Liters)': water_per_day,\n",
    "    'First Aid Kits': first_aid_kits,\n",
    "    'Antibiotics': antibiotics,\n",
    "    'Painkillers': painkillers,\n",
    "    'Weapons Available': weapons_available,\n",
    "    'Defensive Structures': defensive_structures,\n",
    "    'Training Level': training_level,\n",
    "    'Radios Available': radios_available,\n",
    "    'Access to Reliable Information': reliable_information,\n",
    "    'Support Groups Available': support_groups_available,\n",
    "    'Entertainment Available': entertainment_available\n",
    "})"
   ]
  },
  {
   "cell_type": "code",
   "execution_count": 7,
   "id": "bc4da71e",
   "metadata": {},
   "outputs": [
    {
     "name": "stdout",
     "output_type": "stream",
     "text": [
      "Data saved to war_survival_data.csv\n"
     ]
    }
   ],
   "source": [
    "# Save to CSV\n",
    "data.to_csv('war_survival_data.csv', index=False)\n",
    "\n",
    "print(\"Data saved to war_survival_data.csv\")"
   ]
  },
  {
   "cell_type": "code",
   "execution_count": 9,
   "id": "3d882478",
   "metadata": {},
   "outputs": [
    {
     "ename": "NameError",
     "evalue": "name 'war_survival_data' is not defined",
     "output_type": "error",
     "traceback": [
      "\u001b[1;31m---------------------------------------------------------------------------\u001b[0m",
      "\u001b[1;31mNameError\u001b[0m                                 Traceback (most recent call last)",
      "Cell \u001b[1;32mIn[9], line 1\u001b[0m\n\u001b[1;32m----> 1\u001b[0m df \u001b[38;5;241m=\u001b[39m pd\u001b[38;5;241m.\u001b[39mread_csv(war_survival_data\u001b[38;5;241m.\u001b[39mcsv\n\u001b[0;32m      2\u001b[0m )\n",
      "\u001b[1;31mNameError\u001b[0m: name 'war_survival_data' is not defined"
     ]
    }
   ],
   "source": [
    "df = pd.read_csv(war_survival_data.csv\n",
    ")"
   ]
  },
  {
   "cell_type": "code",
   "execution_count": null,
   "id": "b267dc38",
   "metadata": {},
   "outputs": [],
   "source": []
  }
 ],
 "metadata": {
  "kernelspec": {
   "display_name": "Python 3 (ipykernel)",
   "language": "python",
   "name": "python3"
  },
  "language_info": {
   "codemirror_mode": {
    "name": "ipython",
    "version": 3
   },
   "file_extension": ".py",
   "mimetype": "text/x-python",
   "name": "python",
   "nbconvert_exporter": "python",
   "pygments_lexer": "ipython3",
   "version": "3.11.5"
  }
 },
 "nbformat": 4,
 "nbformat_minor": 5
}
